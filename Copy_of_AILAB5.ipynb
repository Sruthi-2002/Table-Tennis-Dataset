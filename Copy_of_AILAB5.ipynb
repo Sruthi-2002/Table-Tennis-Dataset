{
  "nbformat": 4,
  "nbformat_minor": 0,
  "metadata": {
    "colab": {
      "name": "Copy of AILAB5.ipynb",
      "provenance": [],
      "collapsed_sections": [],
      "authorship_tag": "ABX9TyPtyMfuYkVQYPF4u2xZ/sr5",
      "include_colab_link": true
    },
    "kernelspec": {
      "name": "python3",
      "display_name": "Python 3"
    },
    "language_info": {
      "name": "python"
    }
  },
  "cells": [
    {
      "cell_type": "markdown",
      "metadata": {
        "id": "view-in-github",
        "colab_type": "text"
      },
      "source": [
        "<a href=\"https://colab.research.google.com/github/Sruthi-2002/Table-Tennis-Dataset/blob/main/Copy_of_AILAB5.ipynb\" target=\"_parent\"><img src=\"https://colab.research.google.com/assets/colab-badge.svg\" alt=\"Open In Colab\"/></a>"
      ]
    },
    {
      "cell_type": "code",
      "execution_count": null,
      "metadata": {
        "colab": {
          "base_uri": "https://localhost:8080/"
        },
        "id": "yZ_TbJ9Eln_o",
        "outputId": "f8d5ce8b-f735-4f4f-fcaa-d65159ec10c7"
      },
      "outputs": [
        {
          "output_type": "stream",
          "name": "stdout",
          "text": [
            "Mounted at /content/gdrive\n"
          ]
        }
      ],
      "source": [
        "from google.colab import drive\n",
        "drive.mount('/content/gdrive')"
      ]
    },
    {
      "cell_type": "code",
      "source": [
        "cd /content/gdrive/My Drive/CSE2039"
      ],
      "metadata": {
        "colab": {
          "base_uri": "https://localhost:8080/"
        },
        "id": "_pzzMjakl25B",
        "outputId": "f4d3fe2a-9c96-4d30-ca5b-5471ed6a6244"
      },
      "execution_count": null,
      "outputs": [
        {
          "output_type": "stream",
          "name": "stdout",
          "text": [
            "/content/gdrive/My Drive/CSE2039\n"
          ]
        }
      ]
    },
    {
      "cell_type": "code",
      "source": [
        "ls"
      ],
      "metadata": {
        "colab": {
          "base_uri": "https://localhost:8080/"
        },
        "id": "z3Feq_hAmVjH",
        "outputId": "fb196d3c-f8b2-4731-f7c2-fce10eff5805"
      },
      "execution_count": null,
      "outputs": [
        {
          "output_type": "stream",
          "name": "stdout",
          "text": [
            "final.csv  table.xlsx  tennis.csv\n"
          ]
        }
      ]
    },
    {
      "cell_type": "code",
      "source": [
        "import pandas as pd"
      ],
      "metadata": {
        "id": "pmH8QUIQmZc6"
      },
      "execution_count": null,
      "outputs": []
    },
    {
      "cell_type": "code",
      "source": [
        "data = pd.read_csv(\"final.csv\")\n",
        "data"
      ],
      "metadata": {
        "colab": {
          "base_uri": "https://localhost:8080/",
          "height": 488
        },
        "id": "zXTZ_GRnqOfO",
        "outputId": "ae65a23c-ed61-4ccd-80ec-70ef3a2e2339"
      },
      "execution_count": null,
      "outputs": [
        {
          "output_type": "execute_result",
          "data": {
            "text/html": [
              "\n",
              "  <div id=\"df-b86d11c2-e3ac-477a-b17e-37b494df684e\">\n",
              "    <div class=\"colab-df-container\">\n",
              "      <div>\n",
              "<style scoped>\n",
              "    .dataframe tbody tr th:only-of-type {\n",
              "        vertical-align: middle;\n",
              "    }\n",
              "\n",
              "    .dataframe tbody tr th {\n",
              "        vertical-align: top;\n",
              "    }\n",
              "\n",
              "    .dataframe thead th {\n",
              "        text-align: right;\n",
              "    }\n",
              "</style>\n",
              "<table border=\"1\" class=\"dataframe\">\n",
              "  <thead>\n",
              "    <tr style=\"text-align: right;\">\n",
              "      <th></th>\n",
              "      <th>day</th>\n",
              "      <th>outlook</th>\n",
              "      <th>temp</th>\n",
              "      <th>humidity</th>\n",
              "      <th>wind</th>\n",
              "      <th>play</th>\n",
              "    </tr>\n",
              "  </thead>\n",
              "  <tbody>\n",
              "    <tr>\n",
              "      <th>0</th>\n",
              "      <td>D1</td>\n",
              "      <td>Sunny</td>\n",
              "      <td>Hot</td>\n",
              "      <td>High</td>\n",
              "      <td>Weak</td>\n",
              "      <td>No</td>\n",
              "    </tr>\n",
              "    <tr>\n",
              "      <th>1</th>\n",
              "      <td>D2</td>\n",
              "      <td>Sunny</td>\n",
              "      <td>Hot</td>\n",
              "      <td>High</td>\n",
              "      <td>Strong</td>\n",
              "      <td>No</td>\n",
              "    </tr>\n",
              "    <tr>\n",
              "      <th>2</th>\n",
              "      <td>D3</td>\n",
              "      <td>Overcast</td>\n",
              "      <td>Hot</td>\n",
              "      <td>High</td>\n",
              "      <td>Weak</td>\n",
              "      <td>Yes</td>\n",
              "    </tr>\n",
              "    <tr>\n",
              "      <th>3</th>\n",
              "      <td>D4</td>\n",
              "      <td>Rain</td>\n",
              "      <td>Mild</td>\n",
              "      <td>High</td>\n",
              "      <td>Weak</td>\n",
              "      <td>Yes</td>\n",
              "    </tr>\n",
              "    <tr>\n",
              "      <th>4</th>\n",
              "      <td>D5</td>\n",
              "      <td>Rain</td>\n",
              "      <td>Cool</td>\n",
              "      <td>Normal</td>\n",
              "      <td>Weak</td>\n",
              "      <td>Yes</td>\n",
              "    </tr>\n",
              "    <tr>\n",
              "      <th>5</th>\n",
              "      <td>D6</td>\n",
              "      <td>Rain</td>\n",
              "      <td>Cool</td>\n",
              "      <td>Normal</td>\n",
              "      <td>Strong</td>\n",
              "      <td>No</td>\n",
              "    </tr>\n",
              "    <tr>\n",
              "      <th>6</th>\n",
              "      <td>D7</td>\n",
              "      <td>Overcast</td>\n",
              "      <td>Cool</td>\n",
              "      <td>Normal</td>\n",
              "      <td>Strong</td>\n",
              "      <td>Yes</td>\n",
              "    </tr>\n",
              "    <tr>\n",
              "      <th>7</th>\n",
              "      <td>D8</td>\n",
              "      <td>Sunny</td>\n",
              "      <td>Mild</td>\n",
              "      <td>High</td>\n",
              "      <td>Weak</td>\n",
              "      <td>No</td>\n",
              "    </tr>\n",
              "    <tr>\n",
              "      <th>8</th>\n",
              "      <td>D9</td>\n",
              "      <td>Sunny</td>\n",
              "      <td>Cool</td>\n",
              "      <td>Normal</td>\n",
              "      <td>Weak</td>\n",
              "      <td>Yes</td>\n",
              "    </tr>\n",
              "    <tr>\n",
              "      <th>9</th>\n",
              "      <td>D10</td>\n",
              "      <td>Rain</td>\n",
              "      <td>Mild</td>\n",
              "      <td>Normal</td>\n",
              "      <td>Weak</td>\n",
              "      <td>Yes</td>\n",
              "    </tr>\n",
              "    <tr>\n",
              "      <th>10</th>\n",
              "      <td>D11</td>\n",
              "      <td>Sunny</td>\n",
              "      <td>Mild</td>\n",
              "      <td>Normal</td>\n",
              "      <td>Strong</td>\n",
              "      <td>Yes</td>\n",
              "    </tr>\n",
              "    <tr>\n",
              "      <th>11</th>\n",
              "      <td>D12</td>\n",
              "      <td>Overcast</td>\n",
              "      <td>Mild</td>\n",
              "      <td>High</td>\n",
              "      <td>Strong</td>\n",
              "      <td>Yes</td>\n",
              "    </tr>\n",
              "    <tr>\n",
              "      <th>12</th>\n",
              "      <td>D13</td>\n",
              "      <td>Overcast</td>\n",
              "      <td>Hot</td>\n",
              "      <td>Normal</td>\n",
              "      <td>Weak</td>\n",
              "      <td>Yes</td>\n",
              "    </tr>\n",
              "    <tr>\n",
              "      <th>13</th>\n",
              "      <td>D14</td>\n",
              "      <td>Rain</td>\n",
              "      <td>Mild</td>\n",
              "      <td>High</td>\n",
              "      <td>Strong</td>\n",
              "      <td>No</td>\n",
              "    </tr>\n",
              "  </tbody>\n",
              "</table>\n",
              "</div>\n",
              "      <button class=\"colab-df-convert\" onclick=\"convertToInteractive('df-b86d11c2-e3ac-477a-b17e-37b494df684e')\"\n",
              "              title=\"Convert this dataframe to an interactive table.\"\n",
              "              style=\"display:none;\">\n",
              "        \n",
              "  <svg xmlns=\"http://www.w3.org/2000/svg\" height=\"24px\"viewBox=\"0 0 24 24\"\n",
              "       width=\"24px\">\n",
              "    <path d=\"M0 0h24v24H0V0z\" fill=\"none\"/>\n",
              "    <path d=\"M18.56 5.44l.94 2.06.94-2.06 2.06-.94-2.06-.94-.94-2.06-.94 2.06-2.06.94zm-11 1L8.5 8.5l.94-2.06 2.06-.94-2.06-.94L8.5 2.5l-.94 2.06-2.06.94zm10 10l.94 2.06.94-2.06 2.06-.94-2.06-.94-.94-2.06-.94 2.06-2.06.94z\"/><path d=\"M17.41 7.96l-1.37-1.37c-.4-.4-.92-.59-1.43-.59-.52 0-1.04.2-1.43.59L10.3 9.45l-7.72 7.72c-.78.78-.78 2.05 0 2.83L4 21.41c.39.39.9.59 1.41.59.51 0 1.02-.2 1.41-.59l7.78-7.78 2.81-2.81c.8-.78.8-2.07 0-2.86zM5.41 20L4 18.59l7.72-7.72 1.47 1.35L5.41 20z\"/>\n",
              "  </svg>\n",
              "      </button>\n",
              "      \n",
              "  <style>\n",
              "    .colab-df-container {\n",
              "      display:flex;\n",
              "      flex-wrap:wrap;\n",
              "      gap: 12px;\n",
              "    }\n",
              "\n",
              "    .colab-df-convert {\n",
              "      background-color: #E8F0FE;\n",
              "      border: none;\n",
              "      border-radius: 50%;\n",
              "      cursor: pointer;\n",
              "      display: none;\n",
              "      fill: #1967D2;\n",
              "      height: 32px;\n",
              "      padding: 0 0 0 0;\n",
              "      width: 32px;\n",
              "    }\n",
              "\n",
              "    .colab-df-convert:hover {\n",
              "      background-color: #E2EBFA;\n",
              "      box-shadow: 0px 1px 2px rgba(60, 64, 67, 0.3), 0px 1px 3px 1px rgba(60, 64, 67, 0.15);\n",
              "      fill: #174EA6;\n",
              "    }\n",
              "\n",
              "    [theme=dark] .colab-df-convert {\n",
              "      background-color: #3B4455;\n",
              "      fill: #D2E3FC;\n",
              "    }\n",
              "\n",
              "    [theme=dark] .colab-df-convert:hover {\n",
              "      background-color: #434B5C;\n",
              "      box-shadow: 0px 1px 3px 1px rgba(0, 0, 0, 0.15);\n",
              "      filter: drop-shadow(0px 1px 2px rgba(0, 0, 0, 0.3));\n",
              "      fill: #FFFFFF;\n",
              "    }\n",
              "  </style>\n",
              "\n",
              "      <script>\n",
              "        const buttonEl =\n",
              "          document.querySelector('#df-b86d11c2-e3ac-477a-b17e-37b494df684e button.colab-df-convert');\n",
              "        buttonEl.style.display =\n",
              "          google.colab.kernel.accessAllowed ? 'block' : 'none';\n",
              "\n",
              "        async function convertToInteractive(key) {\n",
              "          const element = document.querySelector('#df-b86d11c2-e3ac-477a-b17e-37b494df684e');\n",
              "          const dataTable =\n",
              "            await google.colab.kernel.invokeFunction('convertToInteractive',\n",
              "                                                     [key], {});\n",
              "          if (!dataTable) return;\n",
              "\n",
              "          const docLinkHtml = 'Like what you see? Visit the ' +\n",
              "            '<a target=\"_blank\" href=https://colab.research.google.com/notebooks/data_table.ipynb>data table notebook</a>'\n",
              "            + ' to learn more about interactive tables.';\n",
              "          element.innerHTML = '';\n",
              "          dataTable['output_type'] = 'display_data';\n",
              "          await google.colab.output.renderOutput(dataTable, element);\n",
              "          const docLink = document.createElement('div');\n",
              "          docLink.innerHTML = docLinkHtml;\n",
              "          element.appendChild(docLink);\n",
              "        }\n",
              "      </script>\n",
              "    </div>\n",
              "  </div>\n",
              "  "
            ],
            "text/plain": [
              "    day   outlook  temp humidity    wind play\n",
              "0    D1     Sunny   Hot     High    Weak   No\n",
              "1    D2     Sunny   Hot     High  Strong   No\n",
              "2    D3  Overcast   Hot     High    Weak  Yes\n",
              "3    D4      Rain  Mild     High    Weak  Yes\n",
              "4    D5      Rain  Cool   Normal    Weak  Yes\n",
              "5    D6      Rain  Cool   Normal  Strong   No\n",
              "6    D7  Overcast  Cool   Normal  Strong  Yes\n",
              "7    D8     Sunny  Mild     High    Weak   No\n",
              "8    D9     Sunny  Cool   Normal    Weak  Yes\n",
              "9   D10      Rain  Mild   Normal    Weak  Yes\n",
              "10  D11     Sunny  Mild   Normal  Strong  Yes\n",
              "11  D12  Overcast  Mild     High  Strong  Yes\n",
              "12  D13  Overcast   Hot   Normal    Weak  Yes\n",
              "13  D14      Rain  Mild     High  Strong   No"
            ]
          },
          "metadata": {},
          "execution_count": 59
        }
      ]
    },
    {
      "cell_type": "code",
      "source": [
        "data.info()"
      ],
      "metadata": {
        "colab": {
          "base_uri": "https://localhost:8080/"
        },
        "id": "U1CcaA3EmekF",
        "outputId": "4e81bbbb-60c5-447a-e8ca-71590b8e36e5"
      },
      "execution_count": null,
      "outputs": [
        {
          "output_type": "stream",
          "name": "stdout",
          "text": [
            "<class 'pandas.core.frame.DataFrame'>\n",
            "RangeIndex: 14 entries, 0 to 13\n",
            "Data columns (total 6 columns):\n",
            " #   Column    Non-Null Count  Dtype \n",
            "---  ------    --------------  ----- \n",
            " 0   day       14 non-null     object\n",
            " 1   outlook   14 non-null     object\n",
            " 2   temp      14 non-null     object\n",
            " 3   humidity  14 non-null     object\n",
            " 4   wind      14 non-null     object\n",
            " 5   play      14 non-null     object\n",
            "dtypes: object(6)\n",
            "memory usage: 800.0+ bytes\n"
          ]
        }
      ]
    },
    {
      "cell_type": "code",
      "source": [
        ""
      ],
      "metadata": {
        "id": "S_YbFSCATuzN"
      },
      "execution_count": null,
      "outputs": []
    },
    {
      "cell_type": "code",
      "source": [
        "print(\"shape of dataframe\", data.shape)\n",
        "  \n",
        "# obtaining the number of rows\n",
        "print(\"number of rows : \", data.shape[0])\n",
        "  \n",
        "# obtaining the number of columns\n",
        "print(\"number of columns : \", data.shape[1])"
      ],
      "metadata": {
        "colab": {
          "base_uri": "https://localhost:8080/"
        },
        "id": "U3rjsefipmIh",
        "outputId": "fb12e781-a309-431a-de5b-8d6dc63a61d2"
      },
      "execution_count": null,
      "outputs": [
        {
          "output_type": "stream",
          "name": "stdout",
          "text": [
            "shape of dataframe (14, 6)\n",
            "number of rows :  14\n",
            "number of columns :  6\n"
          ]
        }
      ]
    },
    {
      "cell_type": "code",
      "source": [
        "result = data.head(7)\n",
        "print(\"First 7 rows of the DataFrame:\")\n",
        "print(result)\n"
      ],
      "metadata": {
        "colab": {
          "base_uri": "https://localhost:8080/"
        },
        "id": "KYQmyP94qQ4q",
        "outputId": "c12f626d-cd21-412e-99c1-c71abf787e9a"
      },
      "execution_count": null,
      "outputs": [
        {
          "output_type": "stream",
          "name": "stdout",
          "text": [
            "First 7 rows of the DataFrame:\n",
            "  day   outlook  temp humidity    wind play\n",
            "0  D1     Sunny   Hot     High    Weak   No\n",
            "1  D2     Sunny   Hot     High  Strong   No\n",
            "2  D3  Overcast   Hot     High    Weak  Yes\n",
            "3  D4      Rain  Mild     High    Weak  Yes\n",
            "4  D5      Rain  Cool   Normal    Weak  Yes\n",
            "5  D6      Rain  Cool   Normal  Strong   No\n",
            "6  D7  Overcast  Cool   Normal  Strong  Yes\n"
          ]
        }
      ]
    },
    {
      "cell_type": "code",
      "source": [
        "dataTypeSeries = data.dtypes\n",
        "print('Data type of each column of Dataframe :')\n",
        "print(dataTypeSeries)"
      ],
      "metadata": {
        "colab": {
          "base_uri": "https://localhost:8080/"
        },
        "id": "G0q3mS8cq-se",
        "outputId": "30885c95-5e4d-4b51-b78d-fa32802c3bad"
      },
      "execution_count": null,
      "outputs": [
        {
          "output_type": "stream",
          "name": "stdout",
          "text": [
            "Data type of each column of Dataframe :\n",
            "day         object\n",
            "outlook     object\n",
            "temp        object\n",
            "humidity    object\n",
            "wind        object\n",
            "play        object\n",
            "dtype: object\n"
          ]
        }
      ]
    },
    {
      "cell_type": "code",
      "source": [
        "df = pd.DataFrame(data)\n",
        "print(df)"
      ],
      "metadata": {
        "colab": {
          "base_uri": "https://localhost:8080/"
        },
        "id": "J7LY_uK3UXs_",
        "outputId": "1ccd77ef-fed6-4cfa-f058-bf4f7bf62c28"
      },
      "execution_count": null,
      "outputs": [
        {
          "output_type": "stream",
          "name": "stdout",
          "text": [
            "    day   outlook  temp humidity    wind play\n",
            "0    D1     Sunny   Hot     High    Weak   No\n",
            "1    D2     Sunny   Hot     High  Strong   No\n",
            "2    D3  Overcast   Hot     High    Weak  Yes\n",
            "3    D4      Rain  Mild     High    Weak  Yes\n",
            "4    D5      Rain  Cool   Normal    Weak  Yes\n",
            "5    D6      Rain  Cool   Normal  Strong   No\n",
            "6    D7  Overcast  Cool   Normal  Strong  Yes\n",
            "7    D8     Sunny  Mild     High    Weak   No\n",
            "8    D9     Sunny  Cool   Normal    Weak  Yes\n",
            "9   D10      Rain  Mild   Normal    Weak  Yes\n",
            "10  D11     Sunny  Mild   Normal  Strong  Yes\n",
            "11  D12  Overcast  Mild     High  Strong  Yes\n",
            "12  D13  Overcast   Hot   Normal    Weak  Yes\n",
            "13  D14      Rain  Mild     High  Strong   No\n"
          ]
        }
      ]
    },
    {
      "cell_type": "code",
      "source": [
        "from sklearn.preprocessing import OneHotEncoder\n",
        "\n",
        "#creating instance of one-hot-encoder\n",
        "encoder = OneHotEncoder(handle_unknown='ignore')\n",
        "\n",
        "#perform one-hot encoding on 'team' column \n",
        "encoder_df = pd.DataFrame(encoder.fit_transform(df[['day']]).toarray())\n",
        "\n",
        "#merge one-hot encoded columns back with original DataFrame\n",
        "final_df = df.join(encoder_df)\n",
        "\n",
        "#view final df\n",
        "print(final_df)"
      ],
      "metadata": {
        "colab": {
          "base_uri": "https://localhost:8080/"
        },
        "id": "v9gjmzUTUhQL",
        "outputId": "0380bb86-87b0-438a-c944-0cd6aa110389"
      },
      "execution_count": null,
      "outputs": [
        {
          "output_type": "stream",
          "name": "stdout",
          "text": [
            "    day   outlook  temp humidity    wind play    0    1    2    3    4    5  \\\n",
            "0    D1     Sunny   Hot     High    Weak   No  1.0  0.0  0.0  0.0  0.0  0.0   \n",
            "1    D2     Sunny   Hot     High  Strong   No  0.0  0.0  0.0  0.0  0.0  0.0   \n",
            "2    D3  Overcast   Hot     High    Weak  Yes  0.0  0.0  0.0  0.0  0.0  0.0   \n",
            "3    D4      Rain  Mild     High    Weak  Yes  0.0  0.0  0.0  0.0  0.0  0.0   \n",
            "4    D5      Rain  Cool   Normal    Weak  Yes  0.0  0.0  0.0  0.0  0.0  0.0   \n",
            "5    D6      Rain  Cool   Normal  Strong   No  0.0  0.0  0.0  0.0  0.0  0.0   \n",
            "6    D7  Overcast  Cool   Normal  Strong  Yes  0.0  0.0  0.0  0.0  0.0  0.0   \n",
            "7    D8     Sunny  Mild     High    Weak   No  0.0  0.0  0.0  0.0  0.0  0.0   \n",
            "8    D9     Sunny  Cool   Normal    Weak  Yes  0.0  0.0  0.0  0.0  0.0  0.0   \n",
            "9   D10      Rain  Mild   Normal    Weak  Yes  0.0  1.0  0.0  0.0  0.0  0.0   \n",
            "10  D11     Sunny  Mild   Normal  Strong  Yes  0.0  0.0  1.0  0.0  0.0  0.0   \n",
            "11  D12  Overcast  Mild     High  Strong  Yes  0.0  0.0  0.0  1.0  0.0  0.0   \n",
            "12  D13  Overcast   Hot   Normal    Weak  Yes  0.0  0.0  0.0  0.0  1.0  0.0   \n",
            "13  D14      Rain  Mild     High  Strong   No  0.0  0.0  0.0  0.0  0.0  1.0   \n",
            "\n",
            "      6    7    8    9   10   11   12   13  \n",
            "0   0.0  0.0  0.0  0.0  0.0  0.0  0.0  0.0  \n",
            "1   1.0  0.0  0.0  0.0  0.0  0.0  0.0  0.0  \n",
            "2   0.0  1.0  0.0  0.0  0.0  0.0  0.0  0.0  \n",
            "3   0.0  0.0  1.0  0.0  0.0  0.0  0.0  0.0  \n",
            "4   0.0  0.0  0.0  1.0  0.0  0.0  0.0  0.0  \n",
            "5   0.0  0.0  0.0  0.0  1.0  0.0  0.0  0.0  \n",
            "6   0.0  0.0  0.0  0.0  0.0  1.0  0.0  0.0  \n",
            "7   0.0  0.0  0.0  0.0  0.0  0.0  1.0  0.0  \n",
            "8   0.0  0.0  0.0  0.0  0.0  0.0  0.0  1.0  \n",
            "9   0.0  0.0  0.0  0.0  0.0  0.0  0.0  0.0  \n",
            "10  0.0  0.0  0.0  0.0  0.0  0.0  0.0  0.0  \n",
            "11  0.0  0.0  0.0  0.0  0.0  0.0  0.0  0.0  \n",
            "12  0.0  0.0  0.0  0.0  0.0  0.0  0.0  0.0  \n",
            "13  0.0  0.0  0.0  0.0  0.0  0.0  0.0  0.0  \n"
          ]
        }
      ]
    },
    {
      "cell_type": "code",
      "source": [
        "res = final_df.head(5)\n",
        "print(\"First 5 rows of the DataFrame:\")\n",
        "print(res)"
      ],
      "metadata": {
        "colab": {
          "base_uri": "https://localhost:8080/"
        },
        "id": "TSf0zhbztxHW",
        "outputId": "f9d9f355-c957-41e0-b1b7-77d19b44ca30"
      },
      "execution_count": null,
      "outputs": [
        {
          "output_type": "stream",
          "name": "stdout",
          "text": [
            "First 5 rows of the DataFrame:\n",
            "  day   outlook  temp humidity    wind play    0    1    2    3    4    5  \\\n",
            "0  D1     Sunny   Hot     High    Weak   No  1.0  0.0  0.0  0.0  0.0  0.0   \n",
            "1  D2     Sunny   Hot     High  Strong   No  0.0  0.0  0.0  0.0  0.0  0.0   \n",
            "2  D3  Overcast   Hot     High    Weak  Yes  0.0  0.0  0.0  0.0  0.0  0.0   \n",
            "3  D4      Rain  Mild     High    Weak  Yes  0.0  0.0  0.0  0.0  0.0  0.0   \n",
            "4  D5      Rain  Cool   Normal    Weak  Yes  0.0  0.0  0.0  0.0  0.0  0.0   \n",
            "\n",
            "     6    7    8    9   10   11   12   13  \n",
            "0  0.0  0.0  0.0  0.0  0.0  0.0  0.0  0.0  \n",
            "1  1.0  0.0  0.0  0.0  0.0  0.0  0.0  0.0  \n",
            "2  0.0  1.0  0.0  0.0  0.0  0.0  0.0  0.0  \n",
            "3  0.0  0.0  1.0  0.0  0.0  0.0  0.0  0.0  \n",
            "4  0.0  0.0  0.0  1.0  0.0  0.0  0.0  0.0  \n"
          ]
        }
      ]
    },
    {
      "cell_type": "code",
      "source": [
        "from sklearn.naive_bayes import GaussianNB\n",
        "from sklearn.model_selection import train_test_split\n",
        "from sklearn.metrics import accuracy_score\n",
        "import matplotlib.pyplot as plt\n",
        "x = data.data\n",
        "y = data.target\n",
        "x_train,x_test,y_train,y_test = train_test_split(x,y,test_size=0.2)\n",
        "model_g = GaussianNB()\n",
        "model_g.fit(x_test,y_test)\n",
        "pred_g =model_g.predict(x_test)\n",
        "accuracy_score_g = accuracy_score(y_test,pred_g)\n",
        "print(model_g.class_prior_)\n",
        "print(model_g.class_count_)\n",
        "\n"
      ],
      "metadata": {
        "colab": {
          "base_uri": "https://localhost:8080/"
        },
        "id": "nZLd8Kv_t5Vd",
        "outputId": "b437a782-3664-41e6-d723-4c31bff487ba"
      },
      "execution_count": null,
      "outputs": [
        {
          "output_type": "stream",
          "name": "stdout",
          "text": [
            "[0.09722222 0.11388889 0.11944444 0.10555556 0.07777778 0.09722222\n",
            " 0.11111111 0.08055556 0.08611111 0.11111111]\n",
            "[35. 41. 43. 38. 28. 35. 40. 29. 31. 40.]\n"
          ]
        }
      ]
    },
    {
      "cell_type": "code",
      "source": [
        ""
      ],
      "metadata": {
        "id": "X0jazc9x4fSl"
      },
      "execution_count": null,
      "outputs": []
    },
    {
      "cell_type": "code",
      "source": [
        ""
      ],
      "metadata": {
        "id": "cPop4K8HTx-S"
      },
      "execution_count": null,
      "outputs": []
    }
  ]
}